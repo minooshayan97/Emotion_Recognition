{
 "cells": [
  {
   "cell_type": "code",
   "execution_count": 2,
   "id": "9db7dcb9",
   "metadata": {},
   "outputs": [],
   "source": [
    "import pandas as pd\n",
    "import glob\n",
    "import os"
   ]
  },
  {
   "cell_type": "code",
   "execution_count": 3,
   "id": "0530a9c3",
   "metadata": {},
   "outputs": [],
   "source": [
    "def open_evaluation_files(paths):\n",
    "    \n",
    "    main_df = pd.DataFrame()\n",
    "    for path in paths:\n",
    "        \n",
    "        txt_files = glob.glob(os.path.join(path, \"*.txt\"))\n",
    "        for file_name in txt_files:\n",
    "            f = open(file_name, \"r\")\n",
    "            lines = f.readlines()\n",
    "\n",
    "            useful_rows = []\n",
    "\n",
    "            for i,line in enumerate(lines):\n",
    "                if line.startswith('['):\n",
    "                    useful_rows.append(line.strip().split('\\t'))\n",
    "                else:\n",
    "                    continue\n",
    "            df = pd.DataFrame(useful_rows)\n",
    "            main_df = main_df.append(df, ignore_index=True)\n",
    "            \n",
    "    main_df.columns = ['% [START_TIME - END_TIME]', 'TURN_NAME', 'EMOTION', '[V, A, D]']  \n",
    "    return main_df[['TURN_NAME', 'EMOTION']]"
   ]
  },
  {
   "cell_type": "code",
   "execution_count": 31,
   "id": "99174551",
   "metadata": {},
   "outputs": [],
   "source": [
    "path_to_session1 = ['IEMOCAP_full_release\\Session1\\dialog\\EmoEvaluation']\n",
    "session1 = open_evaluation_files(path_to_session1)"
   ]
  },
  {
   "cell_type": "code",
   "execution_count": 39,
   "id": "6ec9c675",
   "metadata": {},
   "outputs": [
    {
     "data": {
      "text/html": [
       "<div>\n",
       "<style scoped>\n",
       "    .dataframe tbody tr th:only-of-type {\n",
       "        vertical-align: middle;\n",
       "    }\n",
       "\n",
       "    .dataframe tbody tr th {\n",
       "        vertical-align: top;\n",
       "    }\n",
       "\n",
       "    .dataframe thead th {\n",
       "        text-align: right;\n",
       "    }\n",
       "</style>\n",
       "<table border=\"1\" class=\"dataframe\">\n",
       "  <thead>\n",
       "    <tr style=\"text-align: right;\">\n",
       "      <th></th>\n",
       "      <th>TURN_NAME</th>\n",
       "      <th>EMOTION</th>\n",
       "    </tr>\n",
       "  </thead>\n",
       "  <tbody>\n",
       "    <tr>\n",
       "      <th>0</th>\n",
       "      <td>Ses01F_impro01_F000</td>\n",
       "      <td>neu</td>\n",
       "    </tr>\n",
       "    <tr>\n",
       "      <th>1</th>\n",
       "      <td>Ses01F_impro01_F001</td>\n",
       "      <td>neu</td>\n",
       "    </tr>\n",
       "    <tr>\n",
       "      <th>2</th>\n",
       "      <td>Ses01F_impro01_F002</td>\n",
       "      <td>neu</td>\n",
       "    </tr>\n",
       "  </tbody>\n",
       "</table>\n",
       "</div>"
      ],
      "text/plain": [
       "             TURN_NAME EMOTION\n",
       "0  Ses01F_impro01_F000     neu\n",
       "1  Ses01F_impro01_F001     neu\n",
       "2  Ses01F_impro01_F002     neu"
      ]
     },
     "execution_count": 39,
     "metadata": {},
     "output_type": "execute_result"
    }
   ],
   "source": [
    "session1.head(3)"
   ]
  },
  {
   "cell_type": "markdown",
   "id": "f50bc013",
   "metadata": {},
   "source": [
    "# session1"
   ]
  },
  {
   "cell_type": "code",
   "execution_count": 45,
   "id": "735c7ce9",
   "metadata": {},
   "outputs": [
    {
     "data": {
      "text/html": [
       "<div>\n",
       "<style scoped>\n",
       "    .dataframe tbody tr th:only-of-type {\n",
       "        vertical-align: middle;\n",
       "    }\n",
       "\n",
       "    .dataframe tbody tr th {\n",
       "        vertical-align: top;\n",
       "    }\n",
       "\n",
       "    .dataframe thead th {\n",
       "        text-align: right;\n",
       "    }\n",
       "</style>\n",
       "<table border=\"1\" class=\"dataframe\">\n",
       "  <thead>\n",
       "    <tr style=\"text-align: right;\">\n",
       "      <th></th>\n",
       "      <th>TURN_NAME</th>\n",
       "    </tr>\n",
       "    <tr>\n",
       "      <th>EMOTION</th>\n",
       "      <th></th>\n",
       "    </tr>\n",
       "  </thead>\n",
       "  <tbody>\n",
       "    <tr>\n",
       "      <th>ang</th>\n",
       "      <td>229</td>\n",
       "    </tr>\n",
       "    <tr>\n",
       "      <th>dis</th>\n",
       "      <td>1</td>\n",
       "    </tr>\n",
       "    <tr>\n",
       "      <th>exc</th>\n",
       "      <td>143</td>\n",
       "    </tr>\n",
       "    <tr>\n",
       "      <th>fea</th>\n",
       "      <td>12</td>\n",
       "    </tr>\n",
       "    <tr>\n",
       "      <th>fru</th>\n",
       "      <td>280</td>\n",
       "    </tr>\n",
       "    <tr>\n",
       "      <th>hap</th>\n",
       "      <td>135</td>\n",
       "    </tr>\n",
       "    <tr>\n",
       "      <th>neu</th>\n",
       "      <td>384</td>\n",
       "    </tr>\n",
       "    <tr>\n",
       "      <th>oth</th>\n",
       "      <td>1</td>\n",
       "    </tr>\n",
       "    <tr>\n",
       "      <th>sad</th>\n",
       "      <td>194</td>\n",
       "    </tr>\n",
       "    <tr>\n",
       "      <th>sur</th>\n",
       "      <td>25</td>\n",
       "    </tr>\n",
       "    <tr>\n",
       "      <th>xxx</th>\n",
       "      <td>415</td>\n",
       "    </tr>\n",
       "  </tbody>\n",
       "</table>\n",
       "</div>"
      ],
      "text/plain": [
       "         TURN_NAME\n",
       "EMOTION           \n",
       "ang            229\n",
       "dis              1\n",
       "exc            143\n",
       "fea             12\n",
       "fru            280\n",
       "hap            135\n",
       "neu            384\n",
       "oth              1\n",
       "sad            194\n",
       "sur             25\n",
       "xxx            415"
      ]
     },
     "execution_count": 45,
     "metadata": {},
     "output_type": "execute_result"
    }
   ],
   "source": [
    "session1.groupby(\"EMOTION\").count()"
   ]
  },
  {
   "cell_type": "markdown",
   "id": "48cc0c81",
   "metadata": {},
   "source": [
    "# Session 2"
   ]
  },
  {
   "cell_type": "code",
   "execution_count": 44,
   "id": "de0bba7e",
   "metadata": {},
   "outputs": [
    {
     "data": {
      "text/html": [
       "<div>\n",
       "<style scoped>\n",
       "    .dataframe tbody tr th:only-of-type {\n",
       "        vertical-align: middle;\n",
       "    }\n",
       "\n",
       "    .dataframe tbody tr th {\n",
       "        vertical-align: top;\n",
       "    }\n",
       "\n",
       "    .dataframe thead th {\n",
       "        text-align: right;\n",
       "    }\n",
       "</style>\n",
       "<table border=\"1\" class=\"dataframe\">\n",
       "  <thead>\n",
       "    <tr style=\"text-align: right;\">\n",
       "      <th></th>\n",
       "      <th>TURN_NAME</th>\n",
       "    </tr>\n",
       "    <tr>\n",
       "      <th>EMOTION</th>\n",
       "      <th></th>\n",
       "    </tr>\n",
       "  </thead>\n",
       "  <tbody>\n",
       "    <tr>\n",
       "      <th>ang</th>\n",
       "      <td>137</td>\n",
       "    </tr>\n",
       "    <tr>\n",
       "      <th>exc</th>\n",
       "      <td>210</td>\n",
       "    </tr>\n",
       "    <tr>\n",
       "      <th>fea</th>\n",
       "      <td>9</td>\n",
       "    </tr>\n",
       "    <tr>\n",
       "      <th>fru</th>\n",
       "      <td>325</td>\n",
       "    </tr>\n",
       "    <tr>\n",
       "      <th>hap</th>\n",
       "      <td>117</td>\n",
       "    </tr>\n",
       "    <tr>\n",
       "      <th>neu</th>\n",
       "      <td>362</td>\n",
       "    </tr>\n",
       "    <tr>\n",
       "      <th>oth</th>\n",
       "      <td>1</td>\n",
       "    </tr>\n",
       "    <tr>\n",
       "      <th>sad</th>\n",
       "      <td>197</td>\n",
       "    </tr>\n",
       "    <tr>\n",
       "      <th>sur</th>\n",
       "      <td>17</td>\n",
       "    </tr>\n",
       "    <tr>\n",
       "      <th>xxx</th>\n",
       "      <td>436</td>\n",
       "    </tr>\n",
       "  </tbody>\n",
       "</table>\n",
       "</div>"
      ],
      "text/plain": [
       "         TURN_NAME\n",
       "EMOTION           \n",
       "ang            137\n",
       "exc            210\n",
       "fea              9\n",
       "fru            325\n",
       "hap            117\n",
       "neu            362\n",
       "oth              1\n",
       "sad            197\n",
       "sur             17\n",
       "xxx            436"
      ]
     },
     "execution_count": 44,
     "metadata": {},
     "output_type": "execute_result"
    }
   ],
   "source": [
    "path_to_session2 = ['IEMOCAP_full_release\\Session2\\dialog\\EmoEvaluation']\n",
    "session2 = open_evaluation_files(path_to_session2)\n",
    "session2.groupby(\"EMOTION\").count()"
   ]
  },
  {
   "cell_type": "markdown",
   "id": "7ba070a1",
   "metadata": {},
   "source": [
    "# Session 3"
   ]
  },
  {
   "cell_type": "code",
   "execution_count": 43,
   "id": "c9b1c7c8",
   "metadata": {},
   "outputs": [
    {
     "data": {
      "text/html": [
       "<div>\n",
       "<style scoped>\n",
       "    .dataframe tbody tr th:only-of-type {\n",
       "        vertical-align: middle;\n",
       "    }\n",
       "\n",
       "    .dataframe tbody tr th {\n",
       "        vertical-align: top;\n",
       "    }\n",
       "\n",
       "    .dataframe thead th {\n",
       "        text-align: right;\n",
       "    }\n",
       "</style>\n",
       "<table border=\"1\" class=\"dataframe\">\n",
       "  <thead>\n",
       "    <tr style=\"text-align: right;\">\n",
       "      <th></th>\n",
       "      <th>TURN_NAME</th>\n",
       "    </tr>\n",
       "    <tr>\n",
       "      <th>EMOTION</th>\n",
       "      <th></th>\n",
       "    </tr>\n",
       "  </thead>\n",
       "  <tbody>\n",
       "    <tr>\n",
       "      <th>ang</th>\n",
       "      <td>240</td>\n",
       "    </tr>\n",
       "    <tr>\n",
       "      <th>dis</th>\n",
       "      <td>1</td>\n",
       "    </tr>\n",
       "    <tr>\n",
       "      <th>exc</th>\n",
       "      <td>151</td>\n",
       "    </tr>\n",
       "    <tr>\n",
       "      <th>fea</th>\n",
       "      <td>2</td>\n",
       "    </tr>\n",
       "    <tr>\n",
       "      <th>fru</th>\n",
       "      <td>382</td>\n",
       "    </tr>\n",
       "    <tr>\n",
       "      <th>hap</th>\n",
       "      <td>135</td>\n",
       "    </tr>\n",
       "    <tr>\n",
       "      <th>neu</th>\n",
       "      <td>320</td>\n",
       "    </tr>\n",
       "    <tr>\n",
       "      <th>sad</th>\n",
       "      <td>305</td>\n",
       "    </tr>\n",
       "    <tr>\n",
       "      <th>sur</th>\n",
       "      <td>28</td>\n",
       "    </tr>\n",
       "    <tr>\n",
       "      <th>xxx</th>\n",
       "      <td>572</td>\n",
       "    </tr>\n",
       "  </tbody>\n",
       "</table>\n",
       "</div>"
      ],
      "text/plain": [
       "         TURN_NAME\n",
       "EMOTION           \n",
       "ang            240\n",
       "dis              1\n",
       "exc            151\n",
       "fea              2\n",
       "fru            382\n",
       "hap            135\n",
       "neu            320\n",
       "sad            305\n",
       "sur             28\n",
       "xxx            572"
      ]
     },
     "execution_count": 43,
     "metadata": {},
     "output_type": "execute_result"
    }
   ],
   "source": [
    "path_to_session3 = ['IEMOCAP_full_release\\Session3\\dialog\\EmoEvaluation']\n",
    "session3 = open_evaluation_files(path_to_session3)\n",
    "session3.groupby(\"EMOTION\").count()"
   ]
  },
  {
   "cell_type": "markdown",
   "id": "920faf21",
   "metadata": {},
   "source": [
    "# Session 4"
   ]
  },
  {
   "cell_type": "code",
   "execution_count": 47,
   "id": "cc47412c",
   "metadata": {},
   "outputs": [
    {
     "data": {
      "text/html": [
       "<div>\n",
       "<style scoped>\n",
       "    .dataframe tbody tr th:only-of-type {\n",
       "        vertical-align: middle;\n",
       "    }\n",
       "\n",
       "    .dataframe tbody tr th {\n",
       "        vertical-align: top;\n",
       "    }\n",
       "\n",
       "    .dataframe thead th {\n",
       "        text-align: right;\n",
       "    }\n",
       "</style>\n",
       "<table border=\"1\" class=\"dataframe\">\n",
       "  <thead>\n",
       "    <tr style=\"text-align: right;\">\n",
       "      <th></th>\n",
       "      <th>TURN_NAME</th>\n",
       "    </tr>\n",
       "    <tr>\n",
       "      <th>EMOTION</th>\n",
       "      <th></th>\n",
       "    </tr>\n",
       "  </thead>\n",
       "  <tbody>\n",
       "    <tr>\n",
       "      <th>ang</th>\n",
       "      <td>327</td>\n",
       "    </tr>\n",
       "    <tr>\n",
       "      <th>exc</th>\n",
       "      <td>238</td>\n",
       "    </tr>\n",
       "    <tr>\n",
       "      <th>fea</th>\n",
       "      <td>7</td>\n",
       "    </tr>\n",
       "    <tr>\n",
       "      <th>fru</th>\n",
       "      <td>481</td>\n",
       "    </tr>\n",
       "    <tr>\n",
       "      <th>hap</th>\n",
       "      <td>65</td>\n",
       "    </tr>\n",
       "    <tr>\n",
       "      <th>neu</th>\n",
       "      <td>258</td>\n",
       "    </tr>\n",
       "    <tr>\n",
       "      <th>oth</th>\n",
       "      <td>1</td>\n",
       "    </tr>\n",
       "    <tr>\n",
       "      <th>sad</th>\n",
       "      <td>143</td>\n",
       "    </tr>\n",
       "    <tr>\n",
       "      <th>sur</th>\n",
       "      <td>19</td>\n",
       "    </tr>\n",
       "    <tr>\n",
       "      <th>xxx</th>\n",
       "      <td>564</td>\n",
       "    </tr>\n",
       "  </tbody>\n",
       "</table>\n",
       "</div>"
      ],
      "text/plain": [
       "         TURN_NAME\n",
       "EMOTION           \n",
       "ang            327\n",
       "exc            238\n",
       "fea              7\n",
       "fru            481\n",
       "hap             65\n",
       "neu            258\n",
       "oth              1\n",
       "sad            143\n",
       "sur             19\n",
       "xxx            564"
      ]
     },
     "execution_count": 47,
     "metadata": {},
     "output_type": "execute_result"
    }
   ],
   "source": [
    "path_to_session4 = ['IEMOCAP_full_release\\Session4\\dialog\\EmoEvaluation']\n",
    "session4 = open_evaluation_files(path_to_session4)\n",
    "session4.groupby(\"EMOTION\").count()"
   ]
  },
  {
   "cell_type": "markdown",
   "id": "0960cab5",
   "metadata": {},
   "source": [
    "# Session 5"
   ]
  },
  {
   "cell_type": "code",
   "execution_count": 49,
   "id": "80dbb443",
   "metadata": {},
   "outputs": [
    {
     "data": {
      "text/html": [
       "<div>\n",
       "<style scoped>\n",
       "    .dataframe tbody tr th:only-of-type {\n",
       "        vertical-align: middle;\n",
       "    }\n",
       "\n",
       "    .dataframe tbody tr th {\n",
       "        vertical-align: top;\n",
       "    }\n",
       "\n",
       "    .dataframe thead th {\n",
       "        text-align: right;\n",
       "    }\n",
       "</style>\n",
       "<table border=\"1\" class=\"dataframe\">\n",
       "  <thead>\n",
       "    <tr style=\"text-align: right;\">\n",
       "      <th></th>\n",
       "      <th>TURN_NAME</th>\n",
       "    </tr>\n",
       "    <tr>\n",
       "      <th>EMOTION</th>\n",
       "      <th></th>\n",
       "    </tr>\n",
       "  </thead>\n",
       "  <tbody>\n",
       "    <tr>\n",
       "      <th>ang</th>\n",
       "      <td>170</td>\n",
       "    </tr>\n",
       "    <tr>\n",
       "      <th>exc</th>\n",
       "      <td>299</td>\n",
       "    </tr>\n",
       "    <tr>\n",
       "      <th>fea</th>\n",
       "      <td>10</td>\n",
       "    </tr>\n",
       "    <tr>\n",
       "      <th>fru</th>\n",
       "      <td>381</td>\n",
       "    </tr>\n",
       "    <tr>\n",
       "      <th>hap</th>\n",
       "      <td>143</td>\n",
       "    </tr>\n",
       "    <tr>\n",
       "      <th>neu</th>\n",
       "      <td>384</td>\n",
       "    </tr>\n",
       "    <tr>\n",
       "      <th>sad</th>\n",
       "      <td>245</td>\n",
       "    </tr>\n",
       "    <tr>\n",
       "      <th>sur</th>\n",
       "      <td>18</td>\n",
       "    </tr>\n",
       "    <tr>\n",
       "      <th>xxx</th>\n",
       "      <td>520</td>\n",
       "    </tr>\n",
       "  </tbody>\n",
       "</table>\n",
       "</div>"
      ],
      "text/plain": [
       "         TURN_NAME\n",
       "EMOTION           \n",
       "ang            170\n",
       "exc            299\n",
       "fea             10\n",
       "fru            381\n",
       "hap            143\n",
       "neu            384\n",
       "sad            245\n",
       "sur             18\n",
       "xxx            520"
      ]
     },
     "execution_count": 49,
     "metadata": {},
     "output_type": "execute_result"
    }
   ],
   "source": [
    "path_to_session5 = ['IEMOCAP_full_release\\Session5\\dialog\\EmoEvaluation']\n",
    "session5 = open_evaluation_files(path_to_session5)\n",
    "session5.groupby(\"EMOTION\").count()"
   ]
  },
  {
   "cell_type": "markdown",
   "id": "012b2c07",
   "metadata": {},
   "source": [
    "# select classes"
   ]
  },
  {
   "cell_type": "code",
   "execution_count": 93,
   "id": "4377c581",
   "metadata": {},
   "outputs": [],
   "source": [
    "paths = ['IEMOCAP_full_release\\Session1\\dialog\\EmoEvaluation',\n",
    "         'IEMOCAP_full_release\\Session2\\dialog\\EmoEvaluation',\n",
    "         'IEMOCAP_full_release\\Session3\\dialog\\EmoEvaluation',\n",
    "         'IEMOCAP_full_release\\Session4\\dialog\\EmoEvaluation',\n",
    "         'IEMOCAP_full_release\\Session5\\dialog\\EmoEvaluation']\n",
    "df = open_evaluation_files(paths)"
   ]
  },
  {
   "cell_type": "code",
   "execution_count": 94,
   "id": "66aca210",
   "metadata": {},
   "outputs": [],
   "source": [
    "df.to_csv('TURN_EMOTION.csv',index=False)"
   ]
  },
  {
   "cell_type": "code",
   "execution_count": 95,
   "id": "3377c3b3",
   "metadata": {},
   "outputs": [],
   "source": [
    "selected_class_names = ['neu', 'hap', 'sad', 'ang']"
   ]
  },
  {
   "cell_type": "code",
   "execution_count": 96,
   "id": "290c9709",
   "metadata": {},
   "outputs": [],
   "source": [
    "df.loc[df['EMOTION'] == 'exc','EMOTION'] = 'hap'"
   ]
  },
  {
   "cell_type": "code",
   "execution_count": 97,
   "id": "c8d320ad",
   "metadata": {},
   "outputs": [],
   "source": [
    "selected_df = df[df['EMOTION'] == selected_class_names[0]].append(\n",
    "    df[df['EMOTION'] == selected_class_names[1]]).append(\n",
    "    df[df['EMOTION'] == selected_class_names[2]]).append(\n",
    "    df[df['EMOTION'] == selected_class_names[3]],ignore_index=True)"
   ]
  },
  {
   "cell_type": "code",
   "execution_count": 98,
   "id": "7663c0ce",
   "metadata": {},
   "outputs": [
    {
     "data": {
      "text/html": [
       "<div>\n",
       "<style scoped>\n",
       "    .dataframe tbody tr th:only-of-type {\n",
       "        vertical-align: middle;\n",
       "    }\n",
       "\n",
       "    .dataframe tbody tr th {\n",
       "        vertical-align: top;\n",
       "    }\n",
       "\n",
       "    .dataframe thead th {\n",
       "        text-align: right;\n",
       "    }\n",
       "</style>\n",
       "<table border=\"1\" class=\"dataframe\">\n",
       "  <thead>\n",
       "    <tr style=\"text-align: right;\">\n",
       "      <th></th>\n",
       "      <th>TURN_NAME</th>\n",
       "      <th>EMOTION</th>\n",
       "    </tr>\n",
       "  </thead>\n",
       "  <tbody>\n",
       "    <tr>\n",
       "      <th>0</th>\n",
       "      <td>Ses01F_impro01_F000</td>\n",
       "      <td>neu</td>\n",
       "    </tr>\n",
       "    <tr>\n",
       "      <th>1</th>\n",
       "      <td>Ses01F_impro01_F001</td>\n",
       "      <td>neu</td>\n",
       "    </tr>\n",
       "    <tr>\n",
       "      <th>2</th>\n",
       "      <td>Ses01F_impro01_F002</td>\n",
       "      <td>neu</td>\n",
       "    </tr>\n",
       "    <tr>\n",
       "      <th>3</th>\n",
       "      <td>Ses01F_impro01_F005</td>\n",
       "      <td>neu</td>\n",
       "    </tr>\n",
       "    <tr>\n",
       "      <th>4</th>\n",
       "      <td>Ses01F_impro01_F014</td>\n",
       "      <td>neu</td>\n",
       "    </tr>\n",
       "    <tr>\n",
       "      <th>...</th>\n",
       "      <td>...</td>\n",
       "      <td>...</td>\n",
       "    </tr>\n",
       "    <tr>\n",
       "      <th>5526</th>\n",
       "      <td>Ses05M_script03_2_M041</td>\n",
       "      <td>ang</td>\n",
       "    </tr>\n",
       "    <tr>\n",
       "      <th>5527</th>\n",
       "      <td>Ses05M_script03_2_M042</td>\n",
       "      <td>ang</td>\n",
       "    </tr>\n",
       "    <tr>\n",
       "      <th>5528</th>\n",
       "      <td>Ses05M_script03_2_M043</td>\n",
       "      <td>ang</td>\n",
       "    </tr>\n",
       "    <tr>\n",
       "      <th>5529</th>\n",
       "      <td>Ses05M_script03_2_M044</td>\n",
       "      <td>ang</td>\n",
       "    </tr>\n",
       "    <tr>\n",
       "      <th>5530</th>\n",
       "      <td>Ses05M_script03_2_M045</td>\n",
       "      <td>ang</td>\n",
       "    </tr>\n",
       "  </tbody>\n",
       "</table>\n",
       "<p>5531 rows × 2 columns</p>\n",
       "</div>"
      ],
      "text/plain": [
       "                   TURN_NAME EMOTION\n",
       "0        Ses01F_impro01_F000     neu\n",
       "1        Ses01F_impro01_F001     neu\n",
       "2        Ses01F_impro01_F002     neu\n",
       "3        Ses01F_impro01_F005     neu\n",
       "4        Ses01F_impro01_F014     neu\n",
       "...                      ...     ...\n",
       "5526  Ses05M_script03_2_M041     ang\n",
       "5527  Ses05M_script03_2_M042     ang\n",
       "5528  Ses05M_script03_2_M043     ang\n",
       "5529  Ses05M_script03_2_M044     ang\n",
       "5530  Ses05M_script03_2_M045     ang\n",
       "\n",
       "[5531 rows x 2 columns]"
      ]
     },
     "execution_count": 98,
     "metadata": {},
     "output_type": "execute_result"
    }
   ],
   "source": [
    "selected_df"
   ]
  },
  {
   "cell_type": "code",
   "execution_count": 99,
   "id": "96794bed",
   "metadata": {},
   "outputs": [],
   "source": [
    "selected_df.to_csv('selected_TURN_EMOTION.csv',index=False)"
   ]
  },
  {
   "cell_type": "markdown",
   "id": "58f91e67",
   "metadata": {},
   "source": [
    "# check classes in selected dataset"
   ]
  },
  {
   "cell_type": "code",
   "execution_count": 100,
   "id": "84691f40",
   "metadata": {},
   "outputs": [],
   "source": [
    "selected_df['session'] = selected_df['TURN_NAME'].apply(lambda x:x[:5])"
   ]
  },
  {
   "cell_type": "code",
   "execution_count": 103,
   "id": "eef52efc",
   "metadata": {},
   "outputs": [],
   "source": [
    "selected_session1 = selected_df[selected_df['session'] == 'Ses01'].drop(labels=['session'],axis=1)\n",
    "selected_session2 = selected_df[selected_df['session'] == 'Ses02'].drop(labels=['session'],axis=1)\n",
    "selected_session3 = selected_df[selected_df['session'] == 'Ses03'].drop(labels=['session'],axis=1)\n",
    "selected_session4 = selected_df[selected_df['session'] == 'Ses04'].drop(labels=['session'],axis=1)\n",
    "selected_session5 = selected_df[selected_df['session'] == 'Ses05'].drop(labels=['session'],axis=1)"
   ]
  },
  {
   "cell_type": "code",
   "execution_count": 109,
   "id": "64d1d7c9",
   "metadata": {},
   "outputs": [],
   "source": [
    "selected_session1.to_csv('selected_session1.csv',index=False)\n",
    "selected_session2.to_csv('selected_session2.csv',index=False)\n",
    "selected_session3.to_csv('selected_session3.csv',index=False)\n",
    "selected_session4.to_csv('selected_session4.csv',index=False)\n",
    "selected_session5.to_csv('selected_session5.csv',index=False)"
   ]
  },
  {
   "cell_type": "code",
   "execution_count": 110,
   "id": "1b5b6073",
   "metadata": {},
   "outputs": [
    {
     "ename": "AttributeError",
     "evalue": "'NoneType' object has no attribute 'drop'",
     "output_type": "error",
     "traceback": [
      "\u001b[1;31m---------------------------------------------------------------------------\u001b[0m",
      "\u001b[1;31mAttributeError\u001b[0m                            Traceback (most recent call last)",
      "\u001b[1;32m<ipython-input-110-dbbd0486277a>\u001b[0m in \u001b[0;36m<module>\u001b[1;34m\u001b[0m\n\u001b[1;32m----> 1\u001b[1;33m \u001b[0mselected_df\u001b[0m \u001b[1;33m=\u001b[0m \u001b[0mselected_df\u001b[0m\u001b[1;33m.\u001b[0m\u001b[0mdrop\u001b[0m\u001b[1;33m(\u001b[0m\u001b[0mlabels\u001b[0m\u001b[1;33m=\u001b[0m\u001b[1;33m[\u001b[0m\u001b[1;34m'session'\u001b[0m\u001b[1;33m]\u001b[0m\u001b[1;33m,\u001b[0m\u001b[0maxis\u001b[0m\u001b[1;33m=\u001b[0m\u001b[1;36m1\u001b[0m\u001b[1;33m,\u001b[0m\u001b[0minplace\u001b[0m\u001b[1;33m=\u001b[0m\u001b[1;32mTrue\u001b[0m\u001b[1;33m)\u001b[0m\u001b[1;33m\u001b[0m\u001b[1;33m\u001b[0m\u001b[0m\n\u001b[0m",
      "\u001b[1;31mAttributeError\u001b[0m: 'NoneType' object has no attribute 'drop'"
     ]
    }
   ],
   "source": [
    "selected_df = selected_df.drop(labels=['session'],axis=1,inplace=True)"
   ]
  },
  {
   "cell_type": "code",
   "execution_count": 111,
   "id": "65ec08a5",
   "metadata": {},
   "outputs": [
    {
     "name": "stdout",
     "output_type": "stream",
     "text": [
      "Session 1 :\n",
      "         TURN_NAME\n",
      "EMOTION           \n",
      "ang            229\n",
      "hap            278\n",
      "neu            384\n",
      "sad            194\n",
      "Session 2 :\n",
      "         TURN_NAME\n",
      "EMOTION           \n",
      "ang            137\n",
      "hap            327\n",
      "neu            362\n",
      "sad            197\n",
      "Session 3 :\n",
      "         TURN_NAME\n",
      "EMOTION           \n",
      "ang            240\n",
      "hap            286\n",
      "neu            320\n",
      "sad            305\n",
      "Session 4 :\n",
      "         TURN_NAME\n",
      "EMOTION           \n",
      "ang            327\n",
      "hap            303\n",
      "neu            258\n",
      "sad            143\n",
      "Session 5 :\n",
      "         TURN_NAME\n",
      "EMOTION           \n",
      "ang            170\n",
      "hap            442\n",
      "neu            384\n",
      "sad            245\n"
     ]
    }
   ],
   "source": [
    "print('Session 1 :')\n",
    "print(selected_session1.groupby(\"EMOTION\").count())\n",
    "print('Session 2 :')\n",
    "print(selected_session2.groupby(\"EMOTION\").count())\n",
    "print('Session 3 :')\n",
    "print(selected_session3.groupby(\"EMOTION\").count())\n",
    "print('Session 4 :')\n",
    "print(selected_session4.groupby(\"EMOTION\").count())\n",
    "print('Session 5 :')\n",
    "print(selected_session5.groupby(\"EMOTION\").count())"
   ]
  },
  {
   "cell_type": "code",
   "execution_count": 124,
   "id": "533be6fb",
   "metadata": {},
   "outputs": [
    {
     "data": {
      "image/png": "[encoded data removed]",
      "text/plain": [
       "<Figure size 432x288 with 1 Axes>"
      ]
     },
     "metadata": {
      "needs_background": "light"
     },
     "output_type": "display_data"
    },
    {
     "data": {
      "image/png": "[encoded data removed]",
      "text/plain": [
       "<Figure size 432x288 with 1 Axes>"
      ]
     },
     "metadata": {
      "needs_background": "light"
     },
     "output_type": "display_data"
    },
    {
     "data": {
      "image/png": "[encoded data removed]",
      "text/plain": [
       "<Figure size 432x288 with 1 Axes>"
      ]
     },
     "metadata": {
      "needs_background": "light"
     },
     "output_type": "display_data"
    },
    {
     "data": {
      "image/png": "[encoded data removed]",
      "text/plain": [
       "<Figure size 432x288 with 1 Axes>"
      ]
     },
     "metadata": {
      "needs_background": "light"
     },
     "output_type": "display_data"
    },
    {
     "data": {
      "image/png": "[encoded data removed]",
      "text/plain": [
       "<Figure size 432x288 with 1 Axes>"
      ]
     },
     "metadata": {
      "needs_background": "light"
     },
     "output_type": "display_data"
    }
   ],
   "source": [
    "selected_session1.groupby(\"EMOTION\").count().plot.bar(legend=None, title='Session 1')\n",
    "selected_session2.groupby(\"EMOTION\").count().plot.bar(legend=None, title='Session 2')\n",
    "selected_session3.groupby(\"EMOTION\").count().plot.bar(legend=None, title='Session 3')\n",
    "selected_session4.groupby(\"EMOTION\").count().plot.bar(legend=None, title='Session 4')\n",
    "selected_session5.groupby(\"EMOTION\").count().plot.bar(legend=None, title='Session 5')\n",
    "plt.show()"
   ]
  },
  {
   "cell_type": "code",
   "execution_count": null,
   "id": "5cbf1f2c",
   "metadata": {},
   "outputs": [],
   "source": []
  }
 ],
 "metadata": {
  "kernelspec": {
   "display_name": "Python 3",
   "language": "python",
   "name": "python3"
  },
  "language_info": {
   "codemirror_mode": {
    "name": "ipython",
    "version": 3
   },
   "file_extension": ".py",
   "mimetype": "text/x-python",
   "name": "python",
   "nbconvert_exporter": "python",
   "pygments_lexer": "ipython3",
   "version": "3.8.2"
  }
 },
 "nbformat": 4,
 "nbformat_minor": 5
}
