{
 "cells": [
  {
   "cell_type": "code",
   "execution_count": null,
   "id": "618e7b3e",
   "metadata": {},
   "outputs": [],
   "source": [
    "#multiply and classify"
   ]
  },
  {
   "cell_type": "code",
   "execution_count": 1,
   "id": "97cc09d0",
   "metadata": {},
   "outputs": [
    {
     "data": {
      "text/plain": [
       "0.7313186"
      ]
     },
     "execution_count": 1,
     "metadata": {},
     "output_type": "execute_result"
    }
   ],
   "source": [
    "# SVM\n",
    "(0.730876 + 0.779081 + 0.688966 + 0.728419 + 0.729251)/5"
   ]
  },
  {
   "cell_type": "code",
   "execution_count": 2,
   "id": "b932da23",
   "metadata": {},
   "outputs": [
    {
     "data": {
      "text/plain": [
       "0.7045908"
      ]
     },
     "execution_count": 2,
     "metadata": {},
     "output_type": "execute_result"
    }
   ],
   "source": [
    "# NN\n",
    "(0.701382 + 0.760508 + 0.675065 + 0.690592 + 0.695407)/5"
   ]
  },
  {
   "cell_type": "code",
   "execution_count": 3,
   "id": "a481152a",
   "metadata": {},
   "outputs": [
    {
     "data": {
      "text/plain": [
       "0.6992898000000001"
      ]
     },
     "execution_count": 3,
     "metadata": {},
     "output_type": "execute_result"
    }
   ],
   "source": [
    "# XGB\n",
    "(0.687558 + 0.748778 + 0.664639 + 0.679922 + 0.715552)/5"
   ]
  },
  {
   "cell_type": "code",
   "execution_count": 5,
   "id": "52646a0e",
   "metadata": {},
   "outputs": [],
   "source": [
    "#sum and classify"
   ]
  },
  {
   "cell_type": "code",
   "execution_count": 6,
   "id": "d5ab72f8",
   "metadata": {},
   "outputs": [
    {
     "data": {
      "text/plain": [
       "0.7542060000000002"
      ]
     },
     "execution_count": 6,
     "metadata": {},
     "output_type": "execute_result"
    }
   ],
   "source": [
    "# SVM\n",
    "(0.747465 + 0.797654 + 0.734144 + 0.758487 + 0.733280)/5"
   ]
  },
  {
   "cell_type": "code",
   "execution_count": 7,
   "id": "d777c4e3",
   "metadata": {},
   "outputs": [
    {
     "data": {
      "text/plain": [
       "0.7515789999999999"
      ]
     },
     "execution_count": 7,
     "metadata": {},
     "output_type": "execute_result"
    }
   ],
   "source": [
    "# NN\n",
    "(0.748387 + 0.792766 + 0.732407 + 0.752667 + 0.731668)/5"
   ]
  },
  {
   "cell_type": "code",
   "execution_count": 8,
   "id": "e7cd58ff",
   "metadata": {},
   "outputs": [
    {
     "data": {
      "text/plain": [
       "0.7395546"
      ]
     },
     "execution_count": 8,
     "metadata": {},
     "output_type": "execute_result"
    }
   ],
   "source": [
    "# XGB\n",
    "(0.718894 + 0.784946 + 0.718506 + 0.738118 + 0.737309)/5"
   ]
  },
  {
   "cell_type": "code",
   "execution_count": 9,
   "id": "73805898",
   "metadata": {},
   "outputs": [],
   "source": [
    "#concat and classify"
   ]
  },
  {
   "cell_type": "code",
   "execution_count": 10,
   "id": "99c53518",
   "metadata": {},
   "outputs": [
    {
     "data": {
      "text/plain": [
       "0.7545112"
      ]
     },
     "execution_count": 10,
     "metadata": {},
     "output_type": "execute_result"
    }
   ],
   "source": [
    "# SVM\n",
    "(0.746544 + 0.801564 + 0.734144 + 0.754607 + 0.735697)/5"
   ]
  },
  {
   "cell_type": "markdown",
   "id": "aafb3a38",
   "metadata": {},
   "source": [
    "### SVM model saved:\n",
    "#### fussion : embedings\n",
    "#### excluded session = 2\n",
    "#### minoosh/videomae-base-finetuned-IEMOCAP_2\n",
    "#### minoosh/finetuned_bert-base-on-IEMOCAP_2\n",
    "#### minoosh/finetuned_wav2vec2.0-base-on-IEMOCAP_2"
   ]
  },
  {
   "cell_type": "code",
   "execution_count": 11,
   "id": "dfc941df",
   "metadata": {},
   "outputs": [
    {
     "data": {
      "text/plain": [
       "0.7531226"
      ]
     },
     "execution_count": 11,
     "metadata": {},
     "output_type": "execute_result"
    }
   ],
   "source": [
    "# NN\n",
    "(0.737327 + 0.802542 + 0.741095 + 0.749758 + 0.734891)/5"
   ]
  },
  {
   "cell_type": "code",
   "execution_count": 12,
   "id": "6a76efe7",
   "metadata": {},
   "outputs": [
    {
     "data": {
      "text/plain": [
       "0.732807"
      ]
     },
     "execution_count": 12,
     "metadata": {},
     "output_type": "execute_result"
    }
   ],
   "source": [
    "# XGB\n",
    "(0.711521 + 0.785924 + 0.713293 + 0.721629 + 0.731668)/5"
   ]
  },
  {
   "cell_type": "code",
   "execution_count": null,
   "id": "f058677e",
   "metadata": {},
   "outputs": [],
   "source": []
  }
 ],
 "metadata": {
  "kernelspec": {
   "display_name": "Python 3",
   "language": "python",
   "name": "python3"
  },
  "language_info": {
   "codemirror_mode": {
    "name": "ipython",
    "version": 3
   },
   "file_extension": ".py",
   "mimetype": "text/x-python",
   "name": "python",
   "nbconvert_exporter": "python",
   "pygments_lexer": "ipython3",
   "version": "3.8.2"
  }
 },
 "nbformat": 4,
 "nbformat_minor": 5
}
