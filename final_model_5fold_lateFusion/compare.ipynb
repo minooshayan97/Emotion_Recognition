{
 "cells": [
  {
   "cell_type": "code",
   "execution_count": 5,
   "id": "c6eca488",
   "metadata": {},
   "outputs": [],
   "source": [
    "#multiply and classify"
   ]
  },
  {
   "cell_type": "code",
   "execution_count": 1,
   "id": "06039e3d",
   "metadata": {},
   "outputs": [
    {
     "data": {
      "text/plain": [
       "0.6862393999999999"
      ]
     },
     "execution_count": 1,
     "metadata": {},
     "output_type": "execute_result"
    }
   ],
   "source": [
    "# SVM\n",
    "(0.691244 + 0.739980 + 0.675065 + 0.634336 + 0.690572)/5"
   ]
  },
  {
   "cell_type": "code",
   "execution_count": 4,
   "id": "dcf45d31",
   "metadata": {},
   "outputs": [
    {
     "data": {
      "text/plain": [
       "0.6704376"
      ]
     },
     "execution_count": 4,
     "metadata": {},
     "output_type": "execute_result"
    }
   ],
   "source": [
    "# NN\n",
    "( 0.626728 + 0.741935 + 0.666377 + 0.626576 + 0.690572)/5"
   ]
  },
  {
   "cell_type": "code",
   "execution_count": 3,
   "id": "9b644b43",
   "metadata": {},
   "outputs": [
    {
     "data": {
      "text/plain": [
       "0.751066"
      ]
     },
     "execution_count": 3,
     "metadata": {},
     "output_type": "execute_result"
    }
   ],
   "source": [
    "# XGB\n",
    "(0.746544 + 0.788856 + 0.711555 +   0.761397 + 0.746978 )/5"
   ]
  },
  {
   "cell_type": "code",
   "execution_count": null,
   "id": "112045b7",
   "metadata": {},
   "outputs": [],
   "source": [
    "#sum and classify"
   ]
  },
  {
   "cell_type": "code",
   "execution_count": 5,
   "id": "87b7ae4f",
   "metadata": {},
   "outputs": [
    {
     "data": {
      "text/plain": [
       "0.7209774"
      ]
     },
     "execution_count": 5,
     "metadata": {},
     "output_type": "execute_result"
    }
   ],
   "source": [
    "# SVM\n",
    "(0.716129 + 0.771261 + 0.713293 + 0.688652 +  0.715552)/5"
   ]
  },
  {
   "cell_type": "code",
   "execution_count": 6,
   "id": "c2579e68",
   "metadata": {},
   "outputs": [
    {
     "data": {
      "text/plain": [
       "0.725627"
      ]
     },
     "execution_count": 6,
     "metadata": {},
     "output_type": "execute_result"
    }
   ],
   "source": [
    "# NN\n",
    "(0.726267 + 0.777126 + 0.703736 + 0.702231 + 0.718775)/5"
   ]
  },
  {
   "cell_type": "code",
   "execution_count": 7,
   "id": "a028ee22",
   "metadata": {},
   "outputs": [
    {
     "data": {
      "text/plain": [
       "0.727509"
      ]
     },
     "execution_count": 7,
     "metadata": {},
     "output_type": "execute_result"
    }
   ],
   "source": [
    "# XGB\n",
    "(0.733641 + 0.780059 + 0.707211 + 0.695441 + 0.721193)/5"
   ]
  },
  {
   "cell_type": "code",
   "execution_count": 1,
   "id": "3e669115",
   "metadata": {},
   "outputs": [],
   "source": [
    "#concat and classify"
   ]
  },
  {
   "cell_type": "code",
   "execution_count": 2,
   "id": "a8a7ea42",
   "metadata": {},
   "outputs": [
    {
     "data": {
      "text/plain": [
       "0.7397058"
      ]
     },
     "execution_count": 2,
     "metadata": {},
     "output_type": "execute_result"
    }
   ],
   "source": [
    "# SVM\n",
    "(0.728111 + 0.788856 + 0.718506 +  0.750727 + 0.712329)/5"
   ]
  },
  {
   "cell_type": "code",
   "execution_count": 3,
   "id": "b428d36f",
   "metadata": {},
   "outputs": [
    {
     "data": {
      "text/plain": [
       "0.7436043999999999"
      ]
     },
     "execution_count": 3,
     "metadata": {},
     "output_type": "execute_result"
    }
   ],
   "source": [
    "# NN\n",
    "(0.732719 + 0.776149 +  0.722850 +  0.764306 + 0.721998)/5"
   ]
  },
  {
   "cell_type": "code",
   "execution_count": 4,
   "id": "1bcc99a0",
   "metadata": {},
   "outputs": [
    {
     "data": {
      "text/plain": [
       "0.7445358000000001"
      ]
     },
     "execution_count": 4,
     "metadata": {},
     "output_type": "execute_result"
    }
   ],
   "source": [
    "# XGB\n",
    "(0.736406 + 0.777126 + 0.716768 + 0.747818 + 0.744561)/5"
   ]
  },
  {
   "cell_type": "code",
   "execution_count": null,
   "id": "f28b5d53",
   "metadata": {},
   "outputs": [],
   "source": []
  }
 ],
 "metadata": {
  "kernelspec": {
   "display_name": "Python 3",
   "language": "python",
   "name": "python3"
  },
  "language_info": {
   "codemirror_mode": {
    "name": "ipython",
    "version": 3
   },
   "file_extension": ".py",
   "mimetype": "text/x-python",
   "name": "python",
   "nbconvert_exporter": "python",
   "pygments_lexer": "ipython3",
   "version": "3.8.2"
  }
 },
 "nbformat": 4,
 "nbformat_minor": 5
}
