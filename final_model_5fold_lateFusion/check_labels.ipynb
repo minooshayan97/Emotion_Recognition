{
 "cells": [
  {
   "cell_type": "code",
   "execution_count": 10,
   "id": "6b18fd6b",
   "metadata": {},
   "outputs": [],
   "source": [
    "import torch"
   ]
  },
  {
   "cell_type": "code",
   "execution_count": 38,
   "id": "ac5c492d",
   "metadata": {},
   "outputs": [],
   "source": [
    "excluded_session = 1"
   ]
  },
  {
   "cell_type": "code",
   "execution_count": 39,
   "id": "ace09478",
   "metadata": {},
   "outputs": [],
   "source": [
    "train_text_labels = torch.load(f\"./transcriptions/output_{excluded_session}/train_text_labels{excluded_session}.pt\")\n",
    "train_speech_labels = torch.load(f\"./speech/output_{excluded_session}/train_speech_labels{excluded_session}.pt\")\n",
    "train_video_labels = torch.load(f\"./video/output_{excluded_session}/train_video_labels{excluded_session}.pt\")"
   ]
  },
  {
   "cell_type": "code",
   "execution_count": 40,
   "id": "fbdbfb60",
   "metadata": {},
   "outputs": [
    {
     "name": "stdout",
     "output_type": "stream",
     "text": [
      "True\n",
      "True\n"
     ]
    }
   ],
   "source": [
    "print(train_text_labels == train_speech_labels)\n",
    "print(train_speech_labels == train_video_labels)"
   ]
  },
  {
   "cell_type": "code",
   "execution_count": null,
   "id": "b94855cb",
   "metadata": {},
   "outputs": [],
   "source": []
  }
 ],
 "metadata": {
  "kernelspec": {
   "display_name": "Python 3",
   "language": "python",
   "name": "python3"
  },
  "language_info": {
   "codemirror_mode": {
    "name": "ipython",
    "version": 3
   },
   "file_extension": ".py",
   "mimetype": "text/x-python",
   "name": "python",
   "nbconvert_exporter": "python",
   "pygments_lexer": "ipython3",
   "version": "3.8.2"
  }
 },
 "nbformat": 4,
 "nbformat_minor": 5
}
