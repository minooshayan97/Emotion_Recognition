{
 "cells": [
  {
   "cell_type": "code",
   "execution_count": 1,
   "id": "a06ad505",
   "metadata": {},
   "outputs": [],
   "source": [
    "import torch"
   ]
  },
  {
   "cell_type": "code",
   "execution_count": 2,
   "id": "84680165",
   "metadata": {},
   "outputs": [],
   "source": [
    "def load_data(excluded_session):\n",
    "    train_text = torch.load(f\"./transcriptions/output_{excluded_session}/train_text_{excluded_session}.pt\",map_location=torch.device('cpu'))\n",
    "    train_speech = torch.load(f\"./speech/output_{excluded_session}/train_speech_{excluded_session}.pt\",map_location=torch.device('cpu'))\n",
    "    train_video = torch.load(f\"./video/output_{excluded_session}/train_video_{excluded_session}.pt\",map_location=torch.device('cpu'))\n",
    "    summed_data = train_text * train_speech * train_video\n",
    "    \n",
    "    train_labels = torch.load(f\"./transcriptions/output_{excluded_session}/train_text_labels{excluded_session}.pt\",map_location=torch.device('cpu'))\n",
    "    \n",
    "    test_text = torch.load(f\"./transcriptions/output_{excluded_session}/test_text_{excluded_session}.pt\",map_location=torch.device('cpu'))\n",
    "    test_speech = torch.load(f\"./speech/output_{excluded_session}/test_speech_{excluded_session}.pt\",map_location=torch.device('cpu'))\n",
    "    test_video = torch.load(f\"./video/output_{excluded_session}/test_video_{excluded_session}.pt\",map_location=torch.device('cpu'))\n",
    "    summed_test_data = test_text * test_speech * test_video\n",
    "\n",
    "    test_labels = torch.load(f\"./transcriptions/output_{excluded_session}/test_text_labels{excluded_session}.pt\",map_location=torch.device('cpu'))\n",
    "    \n",
    "    return summed_data, train_labels, summed_test_data, test_labels"
   ]
  },
  {
   "cell_type": "markdown",
   "id": "56c0d3ce",
   "metadata": {},
   "source": [
    "# SVM"
   ]
  },
  {
   "cell_type": "code",
   "execution_count": 3,
   "id": "c1f7c169",
   "metadata": {},
   "outputs": [],
   "source": [
    "from sklearn import svm\n",
    "from sklearn.metrics import classification_report\n",
    "\n",
    "def SVM_results(excluded_session):\n",
    "    \n",
    "    print(f\"Session{excluded_session} is used as test set.\")\n",
    "    x_train, y_train, x_test, y_test = load_data(excluded_session)\n",
    "    \n",
    "    clf = svm.SVC()\n",
    "    clf.fit(x_train, y_train)\n",
    "    \n",
    "    target_names = ['ang', 'hap', 'neu', 'sad']\n",
    "\n",
    "    train_predicted = clf.predict(x_train)\n",
    "    print('*** Train')\n",
    "    print(classification_report(y_train, train_predicted, target_names=target_names, digits=6))\n",
    "    print('*** Test')\n",
    "    test_predicted = clf.predict(x_test)\n",
    "    print(classification_report(y_test, test_predicted, target_names=target_names, digits=6))"
   ]
  },
  {
   "cell_type": "code",
   "execution_count": 4,
   "id": "f15ef1f9",
   "metadata": {},
   "outputs": [
    {
     "name": "stdout",
     "output_type": "stream",
     "text": [
      "Session1 is used as test set.\n",
      "*** Train\n",
      "              precision    recall  f1-score   support\n",
      "\n",
      "         ang   0.990160  0.921053  0.954357       874\n",
      "         hap   0.972635  0.916053  0.943496      1358\n",
      "         neu   0.842623  0.970544  0.902071      1324\n",
      "         sad   0.980700  0.913483  0.945899       890\n",
      "\n",
      "    accuracy                       0.932749      4446\n",
      "   macro avg   0.946529  0.930283  0.936456      4446\n",
      "weighted avg   0.938977  0.932749  0.933776      4446\n",
      "\n",
      "*** Test\n",
      "              precision    recall  f1-score   support\n",
      "\n",
      "         ang   0.966216  0.624454  0.758621       229\n",
      "         hap   0.762295  0.669065  0.712644       278\n",
      "         neu   0.573737  0.739583  0.646189       384\n",
      "         sad   0.691919  0.706186  0.698980       194\n",
      "\n",
      "    accuracy                       0.691244      1085\n",
      "   macro avg   0.748542  0.684822  0.704108      1085\n",
      "weighted avg   0.726018  0.691244  0.696385      1085\n",
      "\n"
     ]
    }
   ],
   "source": [
    "SVM_results(1)"
   ]
  },
  {
   "cell_type": "code",
   "execution_count": 5,
   "id": "4b74ff8f",
   "metadata": {},
   "outputs": [
    {
     "name": "stdout",
     "output_type": "stream",
     "text": [
      "Session2 is used as test set.\n",
      "*** Train\n",
      "              precision    recall  f1-score   support\n",
      "\n",
      "         ang   0.997696  0.896480  0.944384       966\n",
      "         hap   0.812736  0.984721  0.890501      1309\n",
      "         neu   0.965323  0.889302  0.925754      1346\n",
      "         sad   0.976658  0.896280  0.934744       887\n",
      "\n",
      "    accuracy                       0.919920      4508\n",
      "   macro avg   0.938103  0.916696  0.923846      4508\n",
      "weighted avg   0.930183  0.919920  0.921279      4508\n",
      "\n",
      "*** Test\n",
      "              precision    recall  f1-score   support\n",
      "\n",
      "         ang   0.980583  0.737226  0.841667       137\n",
      "         hap   0.594862  0.920489  0.722689       327\n",
      "         neu   0.831461  0.613260  0.705882       362\n",
      "         sad   0.904762  0.675127  0.773256       197\n",
      "\n",
      "    accuracy                       0.739980      1023\n",
      "   macro avg   0.827917  0.736526  0.760873      1023\n",
      "weighted avg   0.789918  0.739980  0.742413      1023\n",
      "\n"
     ]
    }
   ],
   "source": [
    "SVM_results(2)"
   ]
  },
  {
   "cell_type": "code",
   "execution_count": 6,
   "id": "5c5b2f84",
   "metadata": {},
   "outputs": [
    {
     "name": "stdout",
     "output_type": "stream",
     "text": [
      "Session3 is used as test set.\n",
      "*** Train\n",
      "              precision    recall  f1-score   support\n",
      "\n",
      "         ang   0.986216  0.911935  0.947622       863\n",
      "         hap   0.885517  0.951111  0.917143      1350\n",
      "         neu   0.919435  0.937320  0.928291      1388\n",
      "         sad   0.974895  0.897304  0.934492       779\n",
      "\n",
      "    accuracy                       0.929452      4380\n",
      "   macro avg   0.941516  0.924418  0.931887      4380\n",
      "weighted avg   0.932003  0.929452  0.929767      4380\n",
      "\n",
      "*** Test\n",
      "              precision    recall  f1-score   support\n",
      "\n",
      "         ang   0.888889  0.633333  0.739659       240\n",
      "         hap   0.549223  0.741259  0.630952       286\n",
      "         neu   0.598404  0.703125  0.646552       320\n",
      "         sad   0.862385  0.616393  0.718929       305\n",
      "\n",
      "    accuracy                       0.675065      1151\n",
      "   macro avg   0.724725  0.673528  0.684023      1151\n",
      "weighted avg   0.716705  0.675065  0.681269      1151\n",
      "\n"
     ]
    }
   ],
   "source": [
    "SVM_results(3)"
   ]
  },
  {
   "cell_type": "code",
   "execution_count": 7,
   "id": "7f701065",
   "metadata": {},
   "outputs": [
    {
     "name": "stdout",
     "output_type": "stream",
     "text": [
      "Session4 is used as test set.\n",
      "*** Train\n",
      "              precision    recall  f1-score   support\n",
      "\n",
      "         ang   0.995620  0.878866  0.933607       776\n",
      "         hap   0.982041  0.902476  0.940579      1333\n",
      "         neu   0.819284  0.978621  0.891892      1450\n",
      "         sad   0.980186  0.893730  0.934964       941\n",
      "\n",
      "    accuracy                       0.921111      4500\n",
      "   macro avg   0.944283  0.913423  0.925260      4500\n",
      "weighted avg   0.931551  0.921111  0.922514      4500\n",
      "\n",
      "*** Test\n",
      "              precision    recall  f1-score   support\n",
      "\n",
      "         ang   0.950893  0.651376  0.773140       327\n",
      "         hap   0.841060  0.419142  0.559471       303\n",
      "         neu   0.401770  0.879845  0.551640       258\n",
      "         sad   0.956044  0.608392  0.743590       143\n",
      "\n",
      "    accuracy                       0.634336      1031\n",
      "   macro avg   0.787442  0.639689  0.656960      1031\n",
      "weighted avg   0.781915  0.634336  0.650818      1031\n",
      "\n"
     ]
    }
   ],
   "source": [
    "SVM_results(4)"
   ]
  },
  {
   "cell_type": "code",
   "execution_count": 8,
   "id": "f133480a",
   "metadata": {},
   "outputs": [
    {
     "name": "stdout",
     "output_type": "stream",
     "text": [
      "Session5 is used as test set.\n",
      "*** Train\n",
      "              precision    recall  f1-score   support\n",
      "\n",
      "         ang   0.994145  0.909968  0.950196       933\n",
      "         hap   0.829441  0.981575  0.899118      1194\n",
      "         neu   0.945184  0.911631  0.928105      1324\n",
      "         sad   0.986595  0.877235  0.928707       839\n",
      "\n",
      "    accuracy                       0.924009      4290\n",
      "   macro avg   0.938841  0.920102  0.926531      4290\n",
      "weighted avg   0.931717  0.924009  0.924959      4290\n",
      "\n",
      "*** Test\n",
      "              precision    recall  f1-score   support\n",
      "\n",
      "         ang   0.895652  0.605882  0.722807       170\n",
      "         hap   0.618629  0.796380  0.696340       442\n",
      "         neu   0.669065  0.726562  0.696629       384\n",
      "         sad   0.878571  0.502041  0.638961       245\n",
      "\n",
      "    accuracy                       0.690572      1241\n",
      "   macro avg   0.765479  0.657716  0.688684      1241\n",
      "weighted avg   0.723502  0.690572  0.688727      1241\n",
      "\n"
     ]
    }
   ],
   "source": [
    "SVM_results(5)"
   ]
  },
  {
   "cell_type": "markdown",
   "id": "6f25838c",
   "metadata": {},
   "source": [
    "# NN"
   ]
  },
  {
   "cell_type": "code",
   "execution_count": 9,
   "id": "745f259d",
   "metadata": {},
   "outputs": [],
   "source": [
    "def NN_predict(model, d_loader):\n",
    "    predicted_set = []\n",
    "\n",
    "    # no need to calculate gradients during inference\n",
    "    with torch.no_grad():\n",
    "      for data in d_loader:\n",
    "        inputs, labels = data\n",
    "        # calculate output by running through the network\n",
    "        outputs = model(inputs)\n",
    "        # get the predictions\n",
    "        __, predicted = torch.max(outputs.data, 1)\n",
    "        predicted_set += predicted.tolist()\n",
    "    \n",
    "    return predicted_set"
   ]
  },
  {
   "cell_type": "code",
   "execution_count": 10,
   "id": "de0c65bc",
   "metadata": {},
   "outputs": [],
   "source": [
    "def NN_train(model, t_loader):\n",
    "    \n",
    "    criterion = nn.CrossEntropyLoss()\n",
    "    optimizer = torch.optim.SGD(model.parameters(), lr=0.1)\n",
    "    \n",
    "    epochs = 50\n",
    "    for epoch in range(epochs):\n",
    "        running_loss = 0.0\n",
    "        for i, data in enumerate(t_loader, 0):\n",
    "            inputs, labels = data\n",
    "            # set optimizer to zero grad to remove previous epoch gradients\n",
    "            optimizer.zero_grad()\n",
    "            # forward propagation\n",
    "            outputs = model(inputs)\n",
    "            loss = criterion(outputs, labels)\n",
    "            # backward propagation\n",
    "            loss.backward()\n",
    "            # optimize\n",
    "            optimizer.step()\n",
    "            running_loss += loss.item()"
   ]
  },
  {
   "cell_type": "code",
   "execution_count": 11,
   "id": "57916356",
   "metadata": {},
   "outputs": [],
   "source": [
    "import numpy as np\n",
    "import torch\n",
    "from torch.utils.data import Dataset, DataLoader\n",
    "class Data(Dataset):\n",
    "  def __init__(self, X_train, y_train):\n",
    "    # need to convert float64 to float32 else \n",
    "    # will get the following error\n",
    "    # RuntimeError: expected scalar type Double but found Float\n",
    "    #self.X = torch.from_numpy(X_train.cast(np.float64))\n",
    "    self.X = X_train\n",
    "    # need to convert float64 to Long else \n",
    "    # will get the following error\n",
    "    # RuntimeError: expected scalar type Long but found Float\n",
    "    self.y = torch.FloatTensor(y_train).type(torch.LongTensor)\n",
    "    self.len = self.X.shape[0]\n",
    "  \n",
    "  def __getitem__(self, index):\n",
    "    return self.X[index], self.y[index]\n",
    "  def __len__(self):\n",
    "    return self.len"
   ]
  },
  {
   "cell_type": "code",
   "execution_count": 12,
   "id": "cec3f6ae",
   "metadata": {},
   "outputs": [],
   "source": [
    "import torch.nn as nn\n",
    "# number of features (len of X cols)\n",
    "input_dim = 4\n",
    "# number of hidden layers\n",
    "hidden_layers = 12\n",
    "# number of classes (unique of y)\n",
    "output_dim = 4\n",
    "class Network(nn.Module):\n",
    "  def __init__(self):\n",
    "    super(Network, self).__init__()\n",
    "    self.linear1 = nn.Linear(input_dim, hidden_layers)\n",
    "    self.linear2 = nn.Linear(hidden_layers, output_dim)\n",
    "  def forward(self, x):\n",
    "    x = torch.sigmoid(self.linear1(x))\n",
    "    x = self.linear2(x)\n",
    "    return x"
   ]
  },
  {
   "cell_type": "code",
   "execution_count": 13,
   "id": "76fce30a",
   "metadata": {},
   "outputs": [],
   "source": [
    "from sklearn.metrics import classification_report\n",
    "\n",
    "def NN_results(excluded_session):\n",
    "    \n",
    "    print(f\"Session{excluded_session} is used as test set.\")\n",
    "    x_train, y_train, x_test, y_test = load_data(excluded_session)\n",
    "    \n",
    "    train_data = Data(x_train, y_train)\n",
    "    batch_size = 32\n",
    "    trainloader = DataLoader(train_data, batch_size=batch_size, shuffle=False)\n",
    "    \n",
    "    clf = Network()\n",
    "    print(clf.parameters)\n",
    "    \n",
    "    NN_train(clf, trainloader)\n",
    "    \n",
    "    test_data = Data(x_test, y_test)\n",
    "    testloader = DataLoader(test_data, batch_size=batch_size, shuffle=False)\n",
    "\n",
    "    target_names = ['ang', 'hap', 'neu', 'sad']\n",
    "\n",
    "    train_predicted = NN_predict(clf, trainloader)\n",
    "    print('*** Train')\n",
    "    print(classification_report(y_train, train_predicted, target_names=target_names, digits=6))\n",
    "    print('*** Test')\n",
    "    test_predicted = NN_predict(clf, testloader)\n",
    "    print(classification_report(y_test, test_predicted, target_names=target_names, digits=6))"
   ]
  },
  {
   "cell_type": "code",
   "execution_count": 14,
   "id": "3b70a6d9",
   "metadata": {},
   "outputs": [
    {
     "name": "stdout",
     "output_type": "stream",
     "text": [
      "Session1 is used as test set.\n",
      "<bound method Module.parameters of Network(\n",
      "  (linear1): Linear(in_features=4, out_features=12, bias=True)\n",
      "  (linear2): Linear(in_features=12, out_features=4, bias=True)\n",
      ")>\n",
      "*** Train\n",
      "              precision    recall  f1-score   support\n",
      "\n",
      "         ang   0.713350  0.996568  0.831504       874\n",
      "         hap   0.979790  0.892489  0.934104      1358\n",
      "         neu   0.981356  0.874622  0.924920      1324\n",
      "         sad   0.985149  0.894382  0.937574       890\n",
      "\n",
      "    accuracy                       0.908007      4446\n",
      "   macro avg   0.914911  0.914515  0.907025      4446\n",
      "weighted avg   0.928952  0.908007  0.911894      4446\n",
      "\n",
      "*** Test\n",
      "              precision    recall  f1-score   support\n",
      "\n",
      "         ang   0.441667  0.925764  0.598025       229\n",
      "         hap   0.782407  0.607914  0.684211       278\n",
      "         neu   0.826733  0.434896  0.569966       384\n",
      "         sad   0.695187  0.670103  0.682415       194\n",
      "\n",
      "    accuracy                       0.624885      1085\n",
      "   macro avg   0.686498  0.659669  0.633654      1085\n",
      "weighted avg   0.710583  0.624885  0.625266      1085\n",
      "\n"
     ]
    }
   ],
   "source": [
    "NN_results(1)"
   ]
  },
  {
   "cell_type": "code",
   "execution_count": 15,
   "id": "86a19953",
   "metadata": {},
   "outputs": [
    {
     "name": "stdout",
     "output_type": "stream",
     "text": [
      "Session2 is used as test set.\n",
      "<bound method Module.parameters of Network(\n",
      "  (linear1): Linear(in_features=4, out_features=12, bias=True)\n",
      "  (linear2): Linear(in_features=12, out_features=4, bias=True)\n",
      ")>\n",
      "*** Train\n",
      "              precision    recall  f1-score   support\n",
      "\n",
      "         ang   0.995449  0.905797  0.948509       966\n",
      "         hap   0.817893  0.984721  0.893588      1309\n",
      "         neu   0.963082  0.891530  0.925926      1346\n",
      "         sad   0.977695  0.889515  0.931523       887\n",
      "\n",
      "    accuracy                       0.921251      4508\n",
      "   macro avg   0.938530  0.917891  0.924886      4508\n",
      "weighted avg   0.930734  0.921251  0.922476      4508\n",
      "\n",
      "*** Test\n",
      "              precision    recall  f1-score   support\n",
      "\n",
      "         ang   0.971698  0.751825  0.847737       137\n",
      "         hap   0.596040  0.920489  0.723558       327\n",
      "         neu   0.835821  0.618785  0.711111       362\n",
      "         sad   0.902778  0.659898  0.762463       197\n",
      "\n",
      "    accuracy                       0.740958      1023\n",
      "   macro avg   0.826584  0.737749  0.761217      1023\n",
      "weighted avg   0.790266  0.740958  0.743275      1023\n",
      "\n"
     ]
    }
   ],
   "source": [
    "NN_results(2)"
   ]
  },
  {
   "cell_type": "code",
   "execution_count": 16,
   "id": "f08ea83a",
   "metadata": {},
   "outputs": [
    {
     "name": "stdout",
     "output_type": "stream",
     "text": [
      "Session3 is used as test set.\n",
      "<bound method Module.parameters of Network(\n",
      "  (linear1): Linear(in_features=4, out_features=12, bias=True)\n",
      "  (linear2): Linear(in_features=12, out_features=4, bias=True)\n",
      ")>\n",
      "*** Train\n",
      "              precision    recall  f1-score   support\n",
      "\n",
      "         ang   0.794419  0.989571  0.881321       863\n",
      "         hap   0.968044  0.920000  0.943411      1350\n",
      "         neu   0.946334  0.902017  0.923644      1388\n",
      "         sad   0.982833  0.881900  0.929635       779\n",
      "\n",
      "    accuracy                       0.921233      4380\n",
      "   macro avg   0.922907  0.923372  0.919503      4380\n",
      "weighted avg   0.929585  0.921233  0.922463      4380\n",
      "\n",
      "*** Test\n",
      "              precision    recall  f1-score   support\n",
      "\n",
      "         ang   0.467672  0.904167  0.616477       240\n",
      "         hap   0.835052  0.566434  0.675000       286\n",
      "         neu   0.644068  0.593750  0.617886       320\n",
      "         sad   0.893939  0.580328  0.703777       305\n",
      "\n",
      "    accuracy                       0.648132      1151\n",
      "   macro avg   0.710183  0.661170  0.653285      1151\n",
      "weighted avg   0.720955  0.648132  0.654544      1151\n",
      "\n"
     ]
    }
   ],
   "source": [
    "NN_results(3)"
   ]
  },
  {
   "cell_type": "code",
   "execution_count": 17,
   "id": "f0a83eaf",
   "metadata": {},
   "outputs": [
    {
     "name": "stdout",
     "output_type": "stream",
     "text": [
      "Session4 is used as test set.\n",
      "<bound method Module.parameters of Network(\n",
      "  (linear1): Linear(in_features=4, out_features=12, bias=True)\n",
      "  (linear2): Linear(in_features=12, out_features=4, bias=True)\n",
      ")>\n",
      "*** Train\n",
      "              precision    recall  f1-score   support\n",
      "\n",
      "         ang   0.660668  0.993557  0.793618       776\n",
      "         hap   0.987531  0.891223  0.936909      1333\n",
      "         neu   0.972265  0.870345  0.918486      1450\n",
      "         sad   0.983173  0.869288  0.922730       941\n",
      "\n",
      "    accuracy                       0.897556      4500\n",
      "   macro avg   0.900909  0.906103  0.892936      4500\n",
      "weighted avg   0.925335  0.897556  0.903298      4500\n",
      "\n",
      "*** Test\n",
      "              precision    recall  f1-score   support\n",
      "\n",
      "         ang   0.488924  0.944954  0.644421       327\n",
      "         hap   0.842857  0.389439  0.532731       303\n",
      "         neu   0.718391  0.484496  0.578704       258\n",
      "         sad   0.964706  0.573427  0.719298       143\n",
      "\n",
      "    accuracy                       0.614937      1031\n",
      "   macro avg   0.753719  0.598079  0.618789      1031\n",
      "weighted avg   0.716355  0.614937  0.605537      1031\n",
      "\n"
     ]
    }
   ],
   "source": [
    "NN_results(4)"
   ]
  },
  {
   "cell_type": "code",
   "execution_count": null,
   "id": "ce84e315",
   "metadata": {},
   "outputs": [
    {
     "name": "stdout",
     "output_type": "stream",
     "text": [
      "Session5 is used as test set.\n",
      "<bound method Module.parameters of Network(\n",
      "  (linear1): Linear(in_features=4, out_features=12, bias=True)\n",
      "  (linear2): Linear(in_features=12, out_features=4, bias=True)\n",
      ")>\n"
     ]
    }
   ],
   "source": [
    "NN_results(5)"
   ]
  },
  {
   "cell_type": "markdown",
   "id": "9ffd44f0",
   "metadata": {},
   "source": [
    "# xgboost"
   ]
  },
  {
   "cell_type": "code",
   "execution_count": null,
   "id": "f4ffc066",
   "metadata": {},
   "outputs": [],
   "source": [
    "from xgboost import XGBClassifier\n",
    "\n",
    "def XGBresults(excluded_session):\n",
    "    \n",
    "    print(f\"Session{excluded_session} is used as test set.\")\n",
    "    x_train, y_train, x_test, y_test = load_data(excluded_session)\n",
    "    \n",
    "    bst = XGBClassifier(n_estimators=2, max_depth=2, learning_rate=1, objective='binary:logistic')\n",
    "    bst.fit(x_train, y_train)\n",
    "    \n",
    "    target_names = ['ang', 'hap', 'neu', 'sad']\n",
    "\n",
    "    train_predicted = bst.predict(x_train)\n",
    "    print('*** Train')\n",
    "    print(classification_report(y_train, train_predicted, target_names=target_names, digits=6))\n",
    "    print('*** Test')\n",
    "    test_predicted = bst.predict(x_test)\n",
    "    print(classification_report(y_test, test_predicted, target_names=target_names, digits=6))"
   ]
  },
  {
   "cell_type": "code",
   "execution_count": null,
   "id": "ce83d578",
   "metadata": {},
   "outputs": [],
   "source": [
    "XGBresults(1)"
   ]
  },
  {
   "cell_type": "code",
   "execution_count": null,
   "id": "fee02897",
   "metadata": {},
   "outputs": [],
   "source": [
    "XGBresults(2)"
   ]
  },
  {
   "cell_type": "code",
   "execution_count": null,
   "id": "557672c1",
   "metadata": {},
   "outputs": [],
   "source": [
    "XGBresults(3)"
   ]
  },
  {
   "cell_type": "code",
   "execution_count": null,
   "id": "2163fd65",
   "metadata": {},
   "outputs": [],
   "source": [
    "XGBresults(4)"
   ]
  },
  {
   "cell_type": "code",
   "execution_count": null,
   "id": "fc4aebb0",
   "metadata": {},
   "outputs": [],
   "source": [
    "XGBresults(5)"
   ]
  },
  {
   "cell_type": "code",
   "execution_count": null,
   "id": "4269f678",
   "metadata": {},
   "outputs": [],
   "source": []
  }
 ],
 "metadata": {
  "kernelspec": {
   "display_name": "Python 3",
   "language": "python",
   "name": "python3"
  },
  "language_info": {
   "codemirror_mode": {
    "name": "ipython",
    "version": 3
   },
   "file_extension": ".py",
   "mimetype": "text/x-python",
   "name": "python",
   "nbconvert_exporter": "python",
   "pygments_lexer": "ipython3",
   "version": "3.8.2"
  }
 },
 "nbformat": 4,
 "nbformat_minor": 5
}
