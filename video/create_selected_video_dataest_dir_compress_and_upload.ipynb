{
 "cells": [
  {
   "cell_type": "code",
   "execution_count": null,
   "id": "0a11d6b0",
   "metadata": {},
   "outputs": [],
   "source": [
    "# use:\n",
    "# selected_TURN_EMOTION.csv (created : analyze.ipynb)\n",
    "# video_sentences - avi dirs (created : split_avi_files_to_mp4s_with_one_sentence.ipynb)\n",
    "\n",
    "# create:\n",
    "# IEMOCAP_videos : (explicit) copied in IEMOCAP_video_selected_classes\n",
    "# IEMOCAP_video_selected_classes.tar.gz"
   ]
  },
  {
   "cell_type": "code",
   "execution_count": 8,
   "id": "3394ae16",
   "metadata": {},
   "outputs": [],
   "source": [
    "import pandas as pd\n",
    "import glob\n",
    "import os"
   ]
  },
  {
   "cell_type": "code",
   "execution_count": 12,
   "id": "7c393185",
   "metadata": {},
   "outputs": [
    {
     "data": {
      "text/html": [
       "<div>\n",
       "<style scoped>\n",
       "    .dataframe tbody tr th:only-of-type {\n",
       "        vertical-align: middle;\n",
       "    }\n",
       "\n",
       "    .dataframe tbody tr th {\n",
       "        vertical-align: top;\n",
       "    }\n",
       "\n",
       "    .dataframe thead th {\n",
       "        text-align: right;\n",
       "    }\n",
       "</style>\n",
       "<table border=\"1\" class=\"dataframe\">\n",
       "  <thead>\n",
       "    <tr style=\"text-align: right;\">\n",
       "      <th></th>\n",
       "      <th>TURN_NAME</th>\n",
       "      <th>EMOTION</th>\n",
       "    </tr>\n",
       "  </thead>\n",
       "  <tbody>\n",
       "    <tr>\n",
       "      <th>0</th>\n",
       "      <td>Ses01F_impro01_F000</td>\n",
       "      <td>neu</td>\n",
       "    </tr>\n",
       "    <tr>\n",
       "      <th>1</th>\n",
       "      <td>Ses01F_impro01_F001</td>\n",
       "      <td>neu</td>\n",
       "    </tr>\n",
       "    <tr>\n",
       "      <th>2</th>\n",
       "      <td>Ses01F_impro01_F002</td>\n",
       "      <td>neu</td>\n",
       "    </tr>\n",
       "    <tr>\n",
       "      <th>3</th>\n",
       "      <td>Ses01F_impro01_F005</td>\n",
       "      <td>neu</td>\n",
       "    </tr>\n",
       "    <tr>\n",
       "      <th>4</th>\n",
       "      <td>Ses01F_impro01_F014</td>\n",
       "      <td>neu</td>\n",
       "    </tr>\n",
       "    <tr>\n",
       "      <th>...</th>\n",
       "      <td>...</td>\n",
       "      <td>...</td>\n",
       "    </tr>\n",
       "    <tr>\n",
       "      <th>5526</th>\n",
       "      <td>Ses05M_script03_2_M041</td>\n",
       "      <td>ang</td>\n",
       "    </tr>\n",
       "    <tr>\n",
       "      <th>5527</th>\n",
       "      <td>Ses05M_script03_2_M042</td>\n",
       "      <td>ang</td>\n",
       "    </tr>\n",
       "    <tr>\n",
       "      <th>5528</th>\n",
       "      <td>Ses05M_script03_2_M043</td>\n",
       "      <td>ang</td>\n",
       "    </tr>\n",
       "    <tr>\n",
       "      <th>5529</th>\n",
       "      <td>Ses05M_script03_2_M044</td>\n",
       "      <td>ang</td>\n",
       "    </tr>\n",
       "    <tr>\n",
       "      <th>5530</th>\n",
       "      <td>Ses05M_script03_2_M045</td>\n",
       "      <td>ang</td>\n",
       "    </tr>\n",
       "  </tbody>\n",
       "</table>\n",
       "<p>5531 rows × 2 columns</p>\n",
       "</div>"
      ],
      "text/plain": [
       "                   TURN_NAME EMOTION\n",
       "0        Ses01F_impro01_F000     neu\n",
       "1        Ses01F_impro01_F001     neu\n",
       "2        Ses01F_impro01_F002     neu\n",
       "3        Ses01F_impro01_F005     neu\n",
       "4        Ses01F_impro01_F014     neu\n",
       "...                      ...     ...\n",
       "5526  Ses05M_script03_2_M041     ang\n",
       "5527  Ses05M_script03_2_M042     ang\n",
       "5528  Ses05M_script03_2_M043     ang\n",
       "5529  Ses05M_script03_2_M044     ang\n",
       "5530  Ses05M_script03_2_M045     ang\n",
       "\n",
       "[5531 rows x 2 columns]"
      ]
     },
     "execution_count": 12,
     "metadata": {},
     "output_type": "execute_result"
    }
   ],
   "source": [
    "df = pd.read_csv('selected_TURN_EMOTION.csv')\n",
    "df"
   ]
  },
  {
   "cell_type": "code",
   "execution_count": 14,
   "id": "e29f3c54",
   "metadata": {},
   "outputs": [
    {
     "data": {
      "text/plain": [
       "array(['neu', 'hap', 'sad', 'ang'], dtype=object)"
      ]
     },
     "execution_count": 14,
     "metadata": {},
     "output_type": "execute_result"
    }
   ],
   "source": [
    "df['EMOTION'].unique()"
   ]
  },
  {
   "cell_type": "code",
   "execution_count": 16,
   "id": "612bbd55",
   "metadata": {},
   "outputs": [],
   "source": [
    "import os\n",
    "\n",
    "sessions = [1, 2, 3, 4, 5]\n",
    "for emotion in df['EMOTION'].unique():\n",
    "    for session in sessions:\n",
    "        os.makedirs('IEMOCAP_videos\\\\Session{}\\\\{}'.format(session, emotion))"
   ]
  },
  {
   "cell_type": "code",
   "execution_count": 17,
   "id": "0c666909",
   "metadata": {},
   "outputs": [],
   "source": [
    "import shutil"
   ]
  },
  {
   "cell_type": "code",
   "execution_count": 18,
   "id": "b745d61c",
   "metadata": {},
   "outputs": [],
   "source": [
    "def find(name, path):\n",
    "    for root, dirs, files in os.walk(path):\n",
    "        if name in files:\n",
    "            return os.path.join(root, name)"
   ]
  },
  {
   "cell_type": "code",
   "execution_count": 20,
   "id": "57b8db08",
   "metadata": {},
   "outputs": [],
   "source": [
    "number_of_videos = {'Session1':0,\n",
    "                   'Session2':0,\n",
    "                   'Session3':0,\n",
    "                   'Session4':0,\n",
    "                   'Session5':0,}\n",
    "for index, row in df.iterrows():\n",
    "\n",
    "    turn_name, emotion = row[0], row[1]\n",
    "    session = turn_name[4]\n",
    "    video_name = turn_name + '.mp4'\n",
    "    path = 'video_sentences\\Session{}'.format(session)\n",
    "    path_to_video = find(video_name, path)\n",
    "    target_path = 'IEMOCAP_videos\\\\Session{}\\\\{}\\\\{}'.format(session, emotion, video_name)\n",
    "    shutil.copyfile(path_to_video, target_path)\n",
    "    number_of_videos['Session{}'.format(session)] += 1"
   ]
  },
  {
   "cell_type": "code",
   "execution_count": 21,
   "id": "c3c68344",
   "metadata": {},
   "outputs": [
    {
     "data": {
      "text/plain": [
       "{'Session1': 1085,\n",
       " 'Session2': 1023,\n",
       " 'Session3': 1151,\n",
       " 'Session4': 1031,\n",
       " 'Session5': 1241}"
      ]
     },
     "execution_count": 21,
     "metadata": {},
     "output_type": "execute_result"
    }
   ],
   "source": [
    "number_of_videos"
   ]
  },
  {
   "cell_type": "code",
   "execution_count": 25,
   "id": "836a13d4",
   "metadata": {},
   "outputs": [
    {
     "data": {
      "text/plain": [
       "5531"
      ]
     },
     "execution_count": 25,
     "metadata": {},
     "output_type": "execute_result"
    }
   ],
   "source": [
    "sum(number_of_videos.values())"
   ]
  },
  {
   "cell_type": "markdown",
   "id": "2d2c5fbd",
   "metadata": {},
   "source": [
    "# compress and upload"
   ]
  },
  {
   "cell_type": "code",
   "execution_count": 22,
   "id": "aa12c614",
   "metadata": {},
   "outputs": [
    {
     "data": {
      "text/plain": [
       "'D:\\\\IEMOCAP\\\\IEMOCAP_video_selected_classes.tar.gz'"
      ]
     },
     "execution_count": 22,
     "metadata": {},
     "output_type": "execute_result"
    }
   ],
   "source": [
    "from shutil import make_archive\n",
    "import os\n",
    "\n",
    "archive_name = os.path.expanduser(os.path.join('', 'IEMOCAP_video_selected_classes'))\n",
    "root_dir = os.path.expanduser(os.path.join('', 'IEMOCAP_video_selected_classes'))\n",
    "make_archive(archive_name, 'gztar', root_dir)"
   ]
  },
  {
   "cell_type": "code",
   "execution_count": 3,
   "id": "b6b297c9",
   "metadata": {},
   "outputs": [
    {
     "data": {
      "text/plain": [
       "'https://huggingface.co/datasets/minoosh/IEMOCAP_videos/blob/main/IEMOCAP_videos'"
      ]
     },
     "execution_count": 3,
     "metadata": {},
     "output_type": "execute_result"
    }
   ],
   "source": [
    "from huggingface_hub import upload_file\n",
    "\n",
    "upload_file(\n",
    "    path_or_fileobj=\"IEMOCAP_video_selected_classes.tar.gz\",\n",
    "    path_in_repo=\"IEMOCAP_videos\",\n",
    "    repo_type=\"dataset\",\n",
    "    repo_id=\"minoosh/IEMOCAP_videos\",\n",
    "    #token=\"my_token\",\n",
    ")"
   ]
  },
  {
   "cell_type": "code",
   "execution_count": null,
   "id": "dc505afa",
   "metadata": {},
   "outputs": [],
   "source": []
  }
 ],
 "metadata": {
  "kernelspec": {
   "display_name": "Python 3",
   "language": "python",
   "name": "python3"
  },
  "language_info": {
   "codemirror_mode": {
    "name": "ipython",
    "version": 3
   },
   "file_extension": ".py",
   "mimetype": "text/x-python",
   "name": "python",
   "nbconvert_exporter": "python",
   "pygments_lexer": "ipython3",
   "version": "3.8.2"
  }
 },
 "nbformat": 4,
 "nbformat_minor": 5
}
